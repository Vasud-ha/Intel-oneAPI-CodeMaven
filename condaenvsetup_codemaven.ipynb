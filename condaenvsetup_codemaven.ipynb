{
 "cells": [
  {
   "cell_type": "code",
   "execution_count": null,
   "id": "1c1dfd4c-c06b-4d71-9260-f6ab320ac9d2",
   "metadata": {},
   "outputs": [],
   "source": [
    "%cd"
   ]
  },
  {
   "cell_type": "code",
   "execution_count": null,
   "id": "e29586cd-8d49-4cc8-9f3e-f2cf743561c8",
   "metadata": {},
   "outputs": [],
   "source": [
    "%%writefile setupenv.sh\n",
    "\n",
    "#Remove old files \n",
    "rm -rf setupenv.sh.*\n",
    "###################################################################\n",
    "#Create stock tensorflow conda env: \n",
    "conda create -n stock-tensorflow python matplotlib ipykernel psutil pandas gitpython\n",
    "\n",
    "#Activate the created conda env: \n",
    "source activate stock-tensorflow\n",
    "\n",
    "#Install latest stock Tensorflow version:\n",
    "pip install tensorflow-cpu==2.11 \n",
    "\n",
    "#Deactivate conda env:\n",
    "conda deactivate\n",
    "\n",
    "#Register the kernel to Jupyter NB: \n",
    "~/.conda/envs/stock-tensorflow/bin/python -m ipykernel install --user --name=stock-tensorflow\n",
    "#####################################################################"
   ]
  },
  {
   "cell_type": "code",
   "execution_count": null,
   "id": "b43df358-5385-4496-834c-870b4a80a276",
   "metadata": {},
   "outputs": [],
   "source": [
    "!cat setupenv.sh"
   ]
  },
  {
   "cell_type": "code",
   "execution_count": null,
   "id": "bcb7d14d-efd8-4e0c-ad4b-6f5b5b75e518",
   "metadata": {},
   "outputs": [],
   "source": [
    "!qsub setupenv.sh -l nodes=1:ppn=2 -d ."
   ]
  },
  {
   "cell_type": "code",
   "execution_count": null,
   "id": "501616c6-16dd-41e3-9944-7a20a6370212",
   "metadata": {},
   "outputs": [],
   "source": [
    "!qstat"
   ]
  },
  {
   "cell_type": "code",
   "execution_count": null,
   "id": "a5e71a38-81b6-4ffe-b0f1-d574a7f814e2",
   "metadata": {},
   "outputs": [],
   "source": [
    "!grep -e \"Successfully\"  setupenv.sh.o*"
   ]
  }
 ],
 "metadata": {
  "kernelspec": {
   "display_name": "Python 3 (Intel® oneAPI 2023.0)",
   "language": "python",
   "name": "c009-intel_distribution_of_python_3_oneapi-beta05-python"
  },
  "language_info": {
   "codemirror_mode": {
    "name": "ipython",
    "version": 3
   },
   "file_extension": ".py",
   "mimetype": "text/x-python",
   "name": "python",
   "nbconvert_exporter": "python",
   "pygments_lexer": "ipython3",
   "version": "3.9.15"
  }
 },
 "nbformat": 4,
 "nbformat_minor": 5
}
